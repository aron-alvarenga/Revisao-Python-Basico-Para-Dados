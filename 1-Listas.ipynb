{
 "cells": [
  {
   "cell_type": "markdown",
   "id": "be324034",
   "metadata": {},
   "source": [
    "# Listas - [ ]"
   ]
  },
  {
   "cell_type": "code",
   "execution_count": 1,
   "id": "886bc44a",
   "metadata": {},
   "outputs": [],
   "source": [
    "lst = [1, 2, 3]"
   ]
  },
  {
   "cell_type": "code",
   "execution_count": 2,
   "id": "f5f1e879",
   "metadata": {},
   "outputs": [
    {
     "data": {
      "text/plain": [
       "[1, 2, 3]"
      ]
     },
     "execution_count": 2,
     "metadata": {},
     "output_type": "execute_result"
    }
   ],
   "source": [
    "lst"
   ]
  },
  {
   "cell_type": "code",
   "execution_count": 3,
   "id": "7913d417",
   "metadata": {},
   "outputs": [
    {
     "data": {
      "text/plain": [
       "list"
      ]
     },
     "execution_count": 3,
     "metadata": {},
     "output_type": "execute_result"
    }
   ],
   "source": [
    "type(lst)"
   ]
  },
  {
   "cell_type": "code",
   "execution_count": 4,
   "id": "9a26835b",
   "metadata": {},
   "outputs": [],
   "source": [
    "lst2 = list((1, 2, 3))"
   ]
  },
  {
   "cell_type": "code",
   "execution_count": 5,
   "id": "d4b0b33a",
   "metadata": {},
   "outputs": [
    {
     "data": {
      "text/plain": [
       "[1, 2, 3]"
      ]
     },
     "execution_count": 5,
     "metadata": {},
     "output_type": "execute_result"
    }
   ],
   "source": [
    "lst2"
   ]
  },
  {
   "cell_type": "code",
   "execution_count": 6,
   "id": "179a013c",
   "metadata": {},
   "outputs": [],
   "source": [
    "lst3 = list({1, 2, 3})"
   ]
  },
  {
   "cell_type": "code",
   "execution_count": 7,
   "id": "f1edcf6e",
   "metadata": {},
   "outputs": [
    {
     "data": {
      "text/plain": [
       "[1, 2, 3]"
      ]
     },
     "execution_count": 7,
     "metadata": {},
     "output_type": "execute_result"
    }
   ],
   "source": [
    "lst3"
   ]
  },
  {
   "cell_type": "code",
   "execution_count": 9,
   "id": "ee894bea",
   "metadata": {},
   "outputs": [],
   "source": [
    "lst4 = list(\"123\")"
   ]
  },
  {
   "cell_type": "code",
   "execution_count": 10,
   "id": "944f1ec9",
   "metadata": {},
   "outputs": [
    {
     "data": {
      "text/plain": [
       "['1', '2', '3']"
      ]
     },
     "execution_count": 10,
     "metadata": {},
     "output_type": "execute_result"
    }
   ],
   "source": [
    "lst4"
   ]
  },
  {
   "cell_type": "code",
   "execution_count": 58,
   "id": "a24333ab",
   "metadata": {},
   "outputs": [],
   "source": [
    "lst5 = []"
   ]
  },
  {
   "cell_type": "code",
   "execution_count": 59,
   "id": "e0176bc3",
   "metadata": {},
   "outputs": [
    {
     "data": {
      "text/plain": [
       "[]"
      ]
     },
     "execution_count": 59,
     "metadata": {},
     "output_type": "execute_result"
    }
   ],
   "source": [
    "lst5"
   ]
  },
  {
   "cell_type": "code",
   "execution_count": 13,
   "id": "6b381f41",
   "metadata": {},
   "outputs": [
    {
     "data": {
      "text/plain": [
       "3"
      ]
     },
     "execution_count": 13,
     "metadata": {},
     "output_type": "execute_result"
    }
   ],
   "source": [
    "len(lst4)"
   ]
  },
  {
   "cell_type": "code",
   "execution_count": 60,
   "id": "16328363",
   "metadata": {},
   "outputs": [
    {
     "data": {
      "text/plain": [
       "0"
      ]
     },
     "execution_count": 60,
     "metadata": {},
     "output_type": "execute_result"
    }
   ],
   "source": [
    "len(lst5)"
   ]
  },
  {
   "cell_type": "code",
   "execution_count": 61,
   "id": "7084aa1a",
   "metadata": {
    "scrolled": true
   },
   "outputs": [
    {
     "name": "stdout",
     "output_type": "stream",
     "text": [
      "0\n",
      "[]\n",
      "1\n",
      "[1]\n",
      "2\n",
      "[1, 2]\n",
      "3\n",
      "[1, 2, 3]\n"
     ]
    }
   ],
   "source": [
    "for elemento in range(4):\n",
    "    print(elemento) # Imprime o valor antes de aderir a lista\n",
    "    if elemento != 0:\n",
    "        lst5.append(elemento) # adiciona o valor a lista\n",
    "    print(lst5)"
   ]
  },
  {
   "cell_type": "code",
   "execution_count": 62,
   "id": "e32ab7eb",
   "metadata": {},
   "outputs": [
    {
     "data": {
      "text/plain": [
       "[1, 2, 3]"
      ]
     },
     "execution_count": 62,
     "metadata": {},
     "output_type": "execute_result"
    }
   ],
   "source": [
    "lst5"
   ]
  },
  {
   "cell_type": "code",
   "execution_count": 27,
   "id": "367c6023",
   "metadata": {},
   "outputs": [],
   "source": [
    "lst6 = ['a', 2, 4, 'c']"
   ]
  },
  {
   "cell_type": "code",
   "execution_count": 28,
   "id": "f3c1df2b",
   "metadata": {},
   "outputs": [
    {
     "data": {
      "text/plain": [
       "['a', 2, 4, 'c']"
      ]
     },
     "execution_count": 28,
     "metadata": {},
     "output_type": "execute_result"
    }
   ],
   "source": [
    "lst6"
   ]
  },
  {
   "cell_type": "code",
   "execution_count": 29,
   "id": "75db3100",
   "metadata": {},
   "outputs": [],
   "source": [
    "lst7 = [1, [2, 3], 'w']"
   ]
  },
  {
   "cell_type": "code",
   "execution_count": 30,
   "id": "06eeeb01",
   "metadata": {},
   "outputs": [
    {
     "data": {
      "text/plain": [
       "[1, [2, 3], 'w']"
      ]
     },
     "execution_count": 30,
     "metadata": {},
     "output_type": "execute_result"
    }
   ],
   "source": [
    "lst7"
   ]
  },
  {
   "cell_type": "code",
   "execution_count": 31,
   "id": "f3a995aa",
   "metadata": {},
   "outputs": [],
   "source": [
    "lst8 = [1, (2, 3)]"
   ]
  },
  {
   "cell_type": "code",
   "execution_count": 32,
   "id": "888004b7",
   "metadata": {},
   "outputs": [
    {
     "data": {
      "text/plain": [
       "[1, (2, 3)]"
      ]
     },
     "execution_count": 32,
     "metadata": {},
     "output_type": "execute_result"
    }
   ],
   "source": [
    "lst8"
   ]
  },
  {
   "cell_type": "markdown",
   "id": "67205d3d",
   "metadata": {},
   "source": [
    "### Acessando valores"
   ]
  },
  {
   "cell_type": "code",
   "execution_count": 33,
   "id": "c3441d49",
   "metadata": {},
   "outputs": [
    {
     "data": {
      "text/plain": [
       "1"
      ]
     },
     "execution_count": 33,
     "metadata": {},
     "output_type": "execute_result"
    }
   ],
   "source": [
    "lst7[0]"
   ]
  },
  {
   "cell_type": "code",
   "execution_count": 34,
   "id": "3faff6cf",
   "metadata": {},
   "outputs": [
    {
     "data": {
      "text/plain": [
       "[2, 3]"
      ]
     },
     "execution_count": 34,
     "metadata": {},
     "output_type": "execute_result"
    }
   ],
   "source": [
    "lst7[1]"
   ]
  },
  {
   "cell_type": "code",
   "execution_count": 35,
   "id": "2b6b1e3b",
   "metadata": {},
   "outputs": [
    {
     "data": {
      "text/plain": [
       "'w'"
      ]
     },
     "execution_count": 35,
     "metadata": {},
     "output_type": "execute_result"
    }
   ],
   "source": [
    "lst7[2]"
   ]
  },
  {
   "cell_type": "code",
   "execution_count": 36,
   "id": "5ee85be9",
   "metadata": {
    "scrolled": true
   },
   "outputs": [
    {
     "data": {
      "text/plain": [
       "2"
      ]
     },
     "execution_count": 36,
     "metadata": {},
     "output_type": "execute_result"
    }
   ],
   "source": [
    "lst7[1][0]"
   ]
  },
  {
   "cell_type": "markdown",
   "id": "06c1ece9",
   "metadata": {},
   "source": [
    "### Junção de Listas"
   ]
  },
  {
   "cell_type": "code",
   "execution_count": 37,
   "id": "171bf128",
   "metadata": {},
   "outputs": [
    {
     "data": {
      "text/plain": [
       "[1, [2, 3], 'w']"
      ]
     },
     "execution_count": 37,
     "metadata": {},
     "output_type": "execute_result"
    }
   ],
   "source": [
    "lst7"
   ]
  },
  {
   "cell_type": "code",
   "execution_count": 38,
   "id": "0b3b9dc5",
   "metadata": {},
   "outputs": [
    {
     "data": {
      "text/plain": [
       "[1, (2, 3)]"
      ]
     },
     "execution_count": 38,
     "metadata": {},
     "output_type": "execute_result"
    }
   ],
   "source": [
    "lst8"
   ]
  },
  {
   "cell_type": "code",
   "execution_count": 39,
   "id": "7ee76c4b",
   "metadata": {},
   "outputs": [
    {
     "data": {
      "text/plain": [
       "[1, [2, 3], 'w', 1, (2, 3)]"
      ]
     },
     "execution_count": 39,
     "metadata": {},
     "output_type": "execute_result"
    }
   ],
   "source": [
    "lst7 + lst8"
   ]
  },
  {
   "cell_type": "code",
   "execution_count": 40,
   "id": "d8a35a0a",
   "metadata": {},
   "outputs": [
    {
     "data": {
      "text/plain": [
       "['a', 2, 4, 'c']"
      ]
     },
     "execution_count": 40,
     "metadata": {},
     "output_type": "execute_result"
    }
   ],
   "source": [
    "lst6"
   ]
  },
  {
   "cell_type": "code",
   "execution_count": 41,
   "id": "67cb1aa7",
   "metadata": {},
   "outputs": [
    {
     "data": {
      "text/plain": [
       "['a', 2, 4, 'c', 'a', 2, 4, 'c', 'a', 2, 4, 'c']"
      ]
     },
     "execution_count": 41,
     "metadata": {},
     "output_type": "execute_result"
    }
   ],
   "source": [
    "lst6*3"
   ]
  },
  {
   "cell_type": "markdown",
   "id": "70509738",
   "metadata": {},
   "source": [
    "### Busca dentro da lista"
   ]
  },
  {
   "cell_type": "code",
   "execution_count": 42,
   "id": "0dd357c4",
   "metadata": {},
   "outputs": [
    {
     "data": {
      "text/plain": [
       "False"
      ]
     },
     "execution_count": 42,
     "metadata": {},
     "output_type": "execute_result"
    }
   ],
   "source": [
    "\"A\" in lst6"
   ]
  },
  {
   "cell_type": "code",
   "execution_count": 43,
   "id": "11cd392e",
   "metadata": {},
   "outputs": [
    {
     "data": {
      "text/plain": [
       "True"
      ]
     },
     "execution_count": 43,
     "metadata": {},
     "output_type": "execute_result"
    }
   ],
   "source": [
    "\"a\" in lst6"
   ]
  },
  {
   "cell_type": "markdown",
   "id": "5c457869",
   "metadata": {},
   "source": [
    "### Métodos"
   ]
  },
  {
   "cell_type": "code",
   "execution_count": 63,
   "id": "c793d7e3",
   "metadata": {},
   "outputs": [
    {
     "data": {
      "text/plain": [
       "[1, 2, 3]"
      ]
     },
     "execution_count": 63,
     "metadata": {},
     "output_type": "execute_result"
    }
   ],
   "source": [
    "lst5"
   ]
  },
  {
   "cell_type": "code",
   "execution_count": 64,
   "id": "717a92e8",
   "metadata": {},
   "outputs": [
    {
     "data": {
      "text/plain": [
       "3"
      ]
     },
     "execution_count": 64,
     "metadata": {},
     "output_type": "execute_result"
    }
   ],
   "source": [
    "lst5.pop() # remove elemento"
   ]
  },
  {
   "cell_type": "code",
   "execution_count": 65,
   "id": "791e1f5a",
   "metadata": {},
   "outputs": [],
   "source": [
    "lst5.append(3) # adiciona elemento"
   ]
  },
  {
   "cell_type": "code",
   "execution_count": 67,
   "id": "6c415b06",
   "metadata": {},
   "outputs": [
    {
     "data": {
      "text/plain": [
       "[1, 2, 3]"
      ]
     },
     "execution_count": 67,
     "metadata": {},
     "output_type": "execute_result"
    }
   ],
   "source": [
    "lst5"
   ]
  },
  {
   "cell_type": "code",
   "execution_count": 68,
   "id": "6ff89628",
   "metadata": {},
   "outputs": [
    {
     "data": {
      "text/plain": [
       "['a', 2, 4, 'c']"
      ]
     },
     "execution_count": 68,
     "metadata": {},
     "output_type": "execute_result"
    }
   ],
   "source": [
    "lst6"
   ]
  },
  {
   "cell_type": "code",
   "execution_count": 69,
   "id": "e019dd02",
   "metadata": {},
   "outputs": [
    {
     "data": {
      "text/plain": [
       "4"
      ]
     },
     "execution_count": 69,
     "metadata": {},
     "output_type": "execute_result"
    }
   ],
   "source": [
    "lst6.pop(2) # remove elemento da posicao 2"
   ]
  },
  {
   "cell_type": "code",
   "execution_count": 70,
   "id": "5effb63a",
   "metadata": {},
   "outputs": [
    {
     "data": {
      "text/plain": [
       "['a', 2, 'c']"
      ]
     },
     "execution_count": 70,
     "metadata": {},
     "output_type": "execute_result"
    }
   ],
   "source": [
    "lst6"
   ]
  },
  {
   "cell_type": "code",
   "execution_count": 72,
   "id": "9ccaff79",
   "metadata": {},
   "outputs": [],
   "source": [
    "lst6.remove('a') # removendo elemento especifico"
   ]
  },
  {
   "cell_type": "code",
   "execution_count": 73,
   "id": "e2fba72c",
   "metadata": {},
   "outputs": [
    {
     "data": {
      "text/plain": [
       "[2, 'c']"
      ]
     },
     "execution_count": 73,
     "metadata": {},
     "output_type": "execute_result"
    }
   ],
   "source": [
    "lst6"
   ]
  },
  {
   "cell_type": "code",
   "execution_count": 74,
   "id": "df3ad56e",
   "metadata": {},
   "outputs": [],
   "source": [
    "lst9 = [3, 9, 1, 0, 3, 10, 4, 6]"
   ]
  },
  {
   "cell_type": "code",
   "execution_count": 75,
   "id": "3d9562b8",
   "metadata": {},
   "outputs": [],
   "source": [
    "lst9.sort() # Ordena elementos na ordem crescente"
   ]
  },
  {
   "cell_type": "code",
   "execution_count": 76,
   "id": "435e67f4",
   "metadata": {},
   "outputs": [
    {
     "data": {
      "text/plain": [
       "[0, 1, 3, 3, 4, 6, 9, 10]"
      ]
     },
     "execution_count": 76,
     "metadata": {},
     "output_type": "execute_result"
    }
   ],
   "source": [
    "lst9"
   ]
  },
  {
   "cell_type": "code",
   "execution_count": 78,
   "id": "2a6ceaa3",
   "metadata": {},
   "outputs": [],
   "source": [
    "lst9.sort(reverse=True) # Ordena elementos na ordem decrescente"
   ]
  },
  {
   "cell_type": "code",
   "execution_count": 79,
   "id": "d6310917",
   "metadata": {},
   "outputs": [
    {
     "data": {
      "text/plain": [
       "[10, 9, 6, 4, 3, 3, 1, 0]"
      ]
     },
     "execution_count": 79,
     "metadata": {},
     "output_type": "execute_result"
    }
   ],
   "source": [
    "lst9"
   ]
  },
  {
   "cell_type": "code",
   "execution_count": 81,
   "id": "d6625e29",
   "metadata": {},
   "outputs": [
    {
     "data": {
      "text/plain": [
       "4"
      ]
     },
     "execution_count": 81,
     "metadata": {},
     "output_type": "execute_result"
    }
   ],
   "source": [
    "lst9.index(3) # Consulta de elemento em determinada posicao"
   ]
  },
  {
   "cell_type": "code",
   "execution_count": 82,
   "id": "565423aa",
   "metadata": {},
   "outputs": [
    {
     "data": {
      "text/plain": [
       "2"
      ]
     },
     "execution_count": 82,
     "metadata": {},
     "output_type": "execute_result"
    }
   ],
   "source": [
    "lst9.count(3) # Numero de vezes que consta o mesmo elemento"
   ]
  },
  {
   "cell_type": "code",
   "execution_count": 83,
   "id": "a932497c",
   "metadata": {},
   "outputs": [
    {
     "data": {
      "text/plain": [
       "1"
      ]
     },
     "execution_count": 83,
     "metadata": {},
     "output_type": "execute_result"
    }
   ],
   "source": [
    "lst9.count(10)"
   ]
  },
  {
   "cell_type": "code",
   "execution_count": 84,
   "id": "56649ea8",
   "metadata": {},
   "outputs": [
    {
     "data": {
      "text/plain": [
       "0"
      ]
     },
     "execution_count": 84,
     "metadata": {},
     "output_type": "execute_result"
    }
   ],
   "source": [
    "lst9.count('a')"
   ]
  }
 ],
 "metadata": {
  "kernelspec": {
   "display_name": "Python 3 (ipykernel)",
   "language": "python",
   "name": "python3"
  },
  "language_info": {
   "codemirror_mode": {
    "name": "ipython",
    "version": 3
   },
   "file_extension": ".py",
   "mimetype": "text/x-python",
   "name": "python",
   "nbconvert_exporter": "python",
   "pygments_lexer": "ipython3",
   "version": "3.8.3"
  }
 },
 "nbformat": 4,
 "nbformat_minor": 5
}
