{
 "cells": [
  {
   "cell_type": "markdown",
   "id": "cac4ac3b",
   "metadata": {},
   "source": [
    "# Dicionários - Coleção de um ou mais objetos - Chave e Valor { }"
   ]
  },
  {
   "cell_type": "code",
   "execution_count": 15,
   "id": "aab5e3fc",
   "metadata": {},
   "outputs": [],
   "source": [
    "dict1 = {'chave1' : 'valor1',\n",
    "         'chave2' : 'valor2'}"
   ]
  },
  {
   "cell_type": "code",
   "execution_count": 16,
   "id": "bad435de",
   "metadata": {},
   "outputs": [
    {
     "data": {
      "text/plain": [
       "{'chave1': 'valor1', 'chave2': 'valor2'}"
      ]
     },
     "execution_count": 16,
     "metadata": {},
     "output_type": "execute_result"
    }
   ],
   "source": [
    "dict1"
   ]
  },
  {
   "cell_type": "code",
   "execution_count": 17,
   "id": "a28d3e35",
   "metadata": {},
   "outputs": [
    {
     "data": {
      "text/plain": [
       "dict"
      ]
     },
     "execution_count": 17,
     "metadata": {},
     "output_type": "execute_result"
    }
   ],
   "source": [
    "type(dict1)"
   ]
  },
  {
   "cell_type": "code",
   "execution_count": 18,
   "id": "338d7344",
   "metadata": {},
   "outputs": [],
   "source": [
    "dict2 = dict(a = 1,\n",
    "             b = 2,\n",
    "             c = 3,\n",
    "             d = 'a')"
   ]
  },
  {
   "cell_type": "code",
   "execution_count": 19,
   "id": "283e0ab2",
   "metadata": {},
   "outputs": [
    {
     "data": {
      "text/plain": [
       "{'a': 1, 'b': 2, 'c': 3, 'd': 'a'}"
      ]
     },
     "execution_count": 19,
     "metadata": {},
     "output_type": "execute_result"
    }
   ],
   "source": [
    "dict2"
   ]
  },
  {
   "cell_type": "code",
   "execution_count": 20,
   "id": "d5a0563f",
   "metadata": {},
   "outputs": [],
   "source": [
    "dict3 = dict([('a', 1),\n",
    "              ('b', 2),\n",
    "              ('c', 3)])"
   ]
  },
  {
   "cell_type": "code",
   "execution_count": 21,
   "id": "e57ce689",
   "metadata": {},
   "outputs": [
    {
     "data": {
      "text/plain": [
       "{'a': 1, 'b': 2, 'c': 3}"
      ]
     },
     "execution_count": 21,
     "metadata": {},
     "output_type": "execute_result"
    }
   ],
   "source": [
    "dict3"
   ]
  },
  {
   "cell_type": "code",
   "execution_count": 22,
   "id": "f345cdc0",
   "metadata": {},
   "outputs": [],
   "source": [
    "dict4 = {'chave1' : ['valor1', 2, 3],\n",
    "         'chave2' : [2, 'idade', 'nome']}"
   ]
  },
  {
   "cell_type": "code",
   "execution_count": 23,
   "id": "0c01468d",
   "metadata": {},
   "outputs": [
    {
     "data": {
      "text/plain": [
       "{'chave1': ['valor1', 2, 3], 'chave2': [2, 'idade', 'nome']}"
      ]
     },
     "execution_count": 23,
     "metadata": {},
     "output_type": "execute_result"
    }
   ],
   "source": [
    "dict4"
   ]
  },
  {
   "cell_type": "code",
   "execution_count": 24,
   "id": "d91d88f4",
   "metadata": {},
   "outputs": [],
   "source": [
    "dict5 = {'id' : [1, 2, 3],\n",
    "         'user' : {'nome' : ['Caio', 'Rodrigo', 'Rafael'],\n",
    "                   'idade' : [29, 30, 29]}}"
   ]
  },
  {
   "cell_type": "code",
   "execution_count": 25,
   "id": "fc23ba8d",
   "metadata": {},
   "outputs": [
    {
     "data": {
      "text/plain": [
       "{'id': [1, 2, 3],\n",
       " 'user': {'nome': ['Caio', 'Rodrigo', 'Rafael'], 'idade': [29, 30, 29]}}"
      ]
     },
     "execution_count": 25,
     "metadata": {},
     "output_type": "execute_result"
    }
   ],
   "source": [
    "dict5"
   ]
  },
  {
   "cell_type": "code",
   "execution_count": 26,
   "id": "6bb2d6c9",
   "metadata": {},
   "outputs": [],
   "source": [
    "dict6 = dict(zip(['chave1', 'chave2', 'chave3'],\n",
    "                 ['valor1', 'valor2', 'valor3']))"
   ]
  },
  {
   "cell_type": "code",
   "execution_count": 27,
   "id": "231d8f6e",
   "metadata": {},
   "outputs": [
    {
     "data": {
      "text/plain": [
       "{'chave1': 'valor1', 'chave2': 'valor2', 'chave3': 'valor3'}"
      ]
     },
     "execution_count": 27,
     "metadata": {},
     "output_type": "execute_result"
    }
   ],
   "source": [
    "dict6"
   ]
  },
  {
   "cell_type": "code",
   "execution_count": 28,
   "id": "eaf19541",
   "metadata": {},
   "outputs": [],
   "source": [
    "dict7 = {'nomes' : ('Caio', 'Rafael'),\n",
    "         'idade' : (29, 30)}"
   ]
  },
  {
   "cell_type": "code",
   "execution_count": 29,
   "id": "4ad46254",
   "metadata": {},
   "outputs": [
    {
     "data": {
      "text/plain": [
       "{'nomes': ('Caio', 'Rafael'), 'idade': (29, 30)}"
      ]
     },
     "execution_count": 29,
     "metadata": {},
     "output_type": "execute_result"
    }
   ],
   "source": [
    "dict7"
   ]
  },
  {
   "cell_type": "markdown",
   "id": "16af371b",
   "metadata": {},
   "source": [
    "### Acessando valores"
   ]
  },
  {
   "cell_type": "code",
   "execution_count": 30,
   "id": "8b2eae4d",
   "metadata": {},
   "outputs": [
    {
     "data": {
      "text/plain": [
       "{'chave1': 'valor1', 'chave2': 'valor2'}"
      ]
     },
     "execution_count": 30,
     "metadata": {},
     "output_type": "execute_result"
    }
   ],
   "source": [
    "dict1"
   ]
  },
  {
   "cell_type": "code",
   "execution_count": 32,
   "id": "997c3890",
   "metadata": {},
   "outputs": [
    {
     "data": {
      "text/plain": [
       "'valor1'"
      ]
     },
     "execution_count": 32,
     "metadata": {},
     "output_type": "execute_result"
    }
   ],
   "source": [
    "dict1['chave1'] # puxando valor da chave"
   ]
  },
  {
   "cell_type": "code",
   "execution_count": 33,
   "id": "3270d314",
   "metadata": {},
   "outputs": [
    {
     "data": {
      "text/plain": [
       "'valor2'"
      ]
     },
     "execution_count": 33,
     "metadata": {},
     "output_type": "execute_result"
    }
   ],
   "source": [
    "dict1.get('chave2') # puxando valor da chave"
   ]
  },
  {
   "cell_type": "code",
   "execution_count": 34,
   "id": "6545fe31",
   "metadata": {},
   "outputs": [
    {
     "data": {
      "text/plain": [
       "'Chave não encontrada!'"
      ]
     },
     "execution_count": 34,
     "metadata": {},
     "output_type": "execute_result"
    }
   ],
   "source": [
    "dict1.get('chave3', 'Chave não encontrada!') # puxando valor da chave com retorno caso nao exista a chave"
   ]
  },
  {
   "cell_type": "code",
   "execution_count": 38,
   "id": "74e74dc6",
   "metadata": {},
   "outputs": [
    {
     "data": {
      "text/plain": [
       "'valor1'"
      ]
     },
     "execution_count": 38,
     "metadata": {},
     "output_type": "execute_result"
    }
   ],
   "source": [
    "dict1.get(list(dict1)[0]) # puxando valor da primeira chave sem precisa saber o nome da chave"
   ]
  },
  {
   "cell_type": "code",
   "execution_count": 39,
   "id": "6d16198b",
   "metadata": {},
   "outputs": [
    {
     "data": {
      "text/plain": [
       "'valor2'"
      ]
     },
     "execution_count": 39,
     "metadata": {},
     "output_type": "execute_result"
    }
   ],
   "source": [
    "dict1.get(list(dict1)[1]) # puxando valor da segunda chave sem precisa saber o nome da chave"
   ]
  },
  {
   "cell_type": "code",
   "execution_count": 40,
   "id": "d842f91e",
   "metadata": {},
   "outputs": [
    {
     "data": {
      "text/plain": [
       "{'chave1': 'valor1', 'chave2': 'valor2'}"
      ]
     },
     "execution_count": 40,
     "metadata": {},
     "output_type": "execute_result"
    }
   ],
   "source": [
    "dict1"
   ]
  },
  {
   "cell_type": "code",
   "execution_count": 41,
   "id": "5621be60",
   "metadata": {},
   "outputs": [
    {
     "name": "stdout",
     "output_type": "stream",
     "text": [
      "chave1 valor1\n",
      "chave2 valor2\n"
     ]
    }
   ],
   "source": [
    "for chave in dict1.keys():\n",
    "    print(chave, dict1[chave]) # printando dicionario na tela"
   ]
  },
  {
   "cell_type": "code",
   "execution_count": 43,
   "id": "c092d3c3",
   "metadata": {},
   "outputs": [
    {
     "name": "stdout",
     "output_type": "stream",
     "text": [
      "chave1 valor1\n",
      "chave2 valor2\n"
     ]
    }
   ],
   "source": [
    "for chave, valor in dict1.items():\n",
    "    print(chave, valor) # printando dicionario na tela"
   ]
  },
  {
   "cell_type": "markdown",
   "id": "77af75c3",
   "metadata": {},
   "source": [
    "### Junção de Dicionários"
   ]
  },
  {
   "cell_type": "code",
   "execution_count": 45,
   "id": "e5a8b729",
   "metadata": {},
   "outputs": [
    {
     "data": {
      "text/plain": [
       "{'chave1': 'valor1', 'chave2': 'valor2'}"
      ]
     },
     "execution_count": 45,
     "metadata": {},
     "output_type": "execute_result"
    }
   ],
   "source": [
    "dict1 "
   ]
  },
  {
   "cell_type": "code",
   "execution_count": 46,
   "id": "b9973431",
   "metadata": {},
   "outputs": [
    {
     "data": {
      "text/plain": [
       "{'a': 1, 'b': 2, 'c': 3, 'd': 'a'}"
      ]
     },
     "execution_count": 46,
     "metadata": {},
     "output_type": "execute_result"
    }
   ],
   "source": [
    "dict2"
   ]
  },
  {
   "cell_type": "code",
   "execution_count": 47,
   "id": "23fef1a3",
   "metadata": {},
   "outputs": [],
   "source": [
    "dict1.update(dict2)"
   ]
  },
  {
   "cell_type": "code",
   "execution_count": 48,
   "id": "b5f4774c",
   "metadata": {},
   "outputs": [
    {
     "data": {
      "text/plain": [
       "{'chave1': 'valor1', 'chave2': 'valor2', 'a': 1, 'b': 2, 'c': 3, 'd': 'a'}"
      ]
     },
     "execution_count": 48,
     "metadata": {},
     "output_type": "execute_result"
    }
   ],
   "source": [
    "dict1"
   ]
  },
  {
   "cell_type": "code",
   "execution_count": 49,
   "id": "99522efe",
   "metadata": {},
   "outputs": [],
   "source": [
    "dict1['Nova Chave'] = 1000 # Adicionando nova chave e valor"
   ]
  },
  {
   "cell_type": "code",
   "execution_count": 50,
   "id": "8e905423",
   "metadata": {},
   "outputs": [
    {
     "data": {
      "text/plain": [
       "{'chave1': 'valor1',\n",
       " 'chave2': 'valor2',\n",
       " 'a': 1,\n",
       " 'b': 2,\n",
       " 'c': 3,\n",
       " 'd': 'a',\n",
       " 'Nova Chave': 1000}"
      ]
     },
     "execution_count": 50,
     "metadata": {},
     "output_type": "execute_result"
    }
   ],
   "source": [
    "dict1"
   ]
  },
  {
   "cell_type": "code",
   "execution_count": 51,
   "id": "b7cf03dc",
   "metadata": {},
   "outputs": [],
   "source": [
    "dict1.update({'Outra Chave' : 'Outro Valor'}) # Adicionando nova chave e valor"
   ]
  },
  {
   "cell_type": "code",
   "execution_count": 53,
   "id": "f9bd59d5",
   "metadata": {},
   "outputs": [
    {
     "data": {
      "text/plain": [
       "{'chave1': 'valor1',\n",
       " 'chave2': 'valor2',\n",
       " 'a': 1,\n",
       " 'b': 2,\n",
       " 'c': 3,\n",
       " 'd': 'a',\n",
       " 'Nova Chave': 1000,\n",
       " 'Outra Chave': 'Outro Valor'}"
      ]
     },
     "execution_count": 53,
     "metadata": {},
     "output_type": "execute_result"
    }
   ],
   "source": [
    "dict1"
   ]
  },
  {
   "cell_type": "code",
   "execution_count": 54,
   "id": "29749f2a",
   "metadata": {},
   "outputs": [
    {
     "data": {
      "text/plain": [
       "{'a': 1, 'b': 2, 'c': 3, 'd': 'a'}"
      ]
     },
     "execution_count": 54,
     "metadata": {},
     "output_type": "execute_result"
    }
   ],
   "source": [
    "{**dict2, **dict3} # Juncao de dicionarios sem adicionar chaves e valores repetidos"
   ]
  },
  {
   "cell_type": "markdown",
   "id": "c479cef6",
   "metadata": {},
   "source": [
    "### Verificando se um valor pertence a chave"
   ]
  },
  {
   "cell_type": "code",
   "execution_count": 55,
   "id": "0d1aa2ae",
   "metadata": {},
   "outputs": [
    {
     "data": {
      "text/plain": [
       "{'a': 1, 'b': 2, 'c': 3}"
      ]
     },
     "execution_count": 55,
     "metadata": {},
     "output_type": "execute_result"
    }
   ],
   "source": [
    "dict3"
   ]
  },
  {
   "cell_type": "code",
   "execution_count": 56,
   "id": "6c52e52d",
   "metadata": {},
   "outputs": [
    {
     "data": {
      "text/plain": [
       "True"
      ]
     },
     "execution_count": 56,
     "metadata": {},
     "output_type": "execute_result"
    }
   ],
   "source": [
    "1 == dict3['a']"
   ]
  },
  {
   "cell_type": "code",
   "execution_count": 57,
   "id": "8ce786f2",
   "metadata": {},
   "outputs": [
    {
     "data": {
      "text/plain": [
       "False"
      ]
     },
     "execution_count": 57,
     "metadata": {},
     "output_type": "execute_result"
    }
   ],
   "source": [
    "0 == dict3['a']"
   ]
  },
  {
   "cell_type": "markdown",
   "id": "11da67f7",
   "metadata": {},
   "source": [
    "### Métodos"
   ]
  },
  {
   "cell_type": "code",
   "execution_count": 58,
   "id": "64d5beb0",
   "metadata": {},
   "outputs": [
    {
     "data": {
      "text/plain": [
       "{'a': 1, 'b': 2, 'c': 3}"
      ]
     },
     "execution_count": 58,
     "metadata": {},
     "output_type": "execute_result"
    }
   ],
   "source": [
    "dict3"
   ]
  },
  {
   "cell_type": "code",
   "execution_count": 59,
   "id": "c74be80c",
   "metadata": {},
   "outputs": [],
   "source": [
    "dict3.clear()"
   ]
  },
  {
   "cell_type": "code",
   "execution_count": 60,
   "id": "2143ec32",
   "metadata": {},
   "outputs": [
    {
     "data": {
      "text/plain": [
       "{}"
      ]
     },
     "execution_count": 60,
     "metadata": {},
     "output_type": "execute_result"
    }
   ],
   "source": [
    "dict3"
   ]
  },
  {
   "cell_type": "code",
   "execution_count": 61,
   "id": "a1948734",
   "metadata": {},
   "outputs": [],
   "source": [
    "dict1000 = dict3.copy() # copiando dicionario"
   ]
  },
  {
   "cell_type": "code",
   "execution_count": 62,
   "id": "752ff264",
   "metadata": {},
   "outputs": [
    {
     "data": {
      "text/plain": [
       "{}"
      ]
     },
     "execution_count": 62,
     "metadata": {},
     "output_type": "execute_result"
    }
   ],
   "source": [
    "dict1000"
   ]
  },
  {
   "cell_type": "code",
   "execution_count": 64,
   "id": "b115710e",
   "metadata": {},
   "outputs": [
    {
     "data": {
      "text/plain": [
       "{'chave1': ['valor1', 2, 3], 'chave2': [2, 'idade', 'nome']}"
      ]
     },
     "execution_count": 64,
     "metadata": {},
     "output_type": "execute_result"
    }
   ],
   "source": [
    "dict4"
   ]
  },
  {
   "cell_type": "code",
   "execution_count": 65,
   "id": "d5460f88",
   "metadata": {},
   "outputs": [
    {
     "data": {
      "text/plain": [
       "['valor1', 2, 3]"
      ]
     },
     "execution_count": 65,
     "metadata": {},
     "output_type": "execute_result"
    }
   ],
   "source": [
    "dict4.pop('chave1') # removendo chave especifica"
   ]
  },
  {
   "cell_type": "code",
   "execution_count": 66,
   "id": "b57bc737",
   "metadata": {},
   "outputs": [
    {
     "data": {
      "text/plain": [
       "{'chave2': [2, 'idade', 'nome']}"
      ]
     },
     "execution_count": 66,
     "metadata": {},
     "output_type": "execute_result"
    }
   ],
   "source": [
    "dict4"
   ]
  },
  {
   "cell_type": "code",
   "execution_count": 67,
   "id": "34d94a47",
   "metadata": {},
   "outputs": [
    {
     "data": {
      "text/plain": [
       "{'chave1': 'valor1', 'chave2': 'valor2', 'chave3': 'valor3'}"
      ]
     },
     "execution_count": 67,
     "metadata": {},
     "output_type": "execute_result"
    }
   ],
   "source": [
    "dict6"
   ]
  },
  {
   "cell_type": "code",
   "execution_count": 68,
   "id": "0996bb3e",
   "metadata": {},
   "outputs": [
    {
     "data": {
      "text/plain": [
       "('chave3', 'valor3')"
      ]
     },
     "execution_count": 68,
     "metadata": {},
     "output_type": "execute_result"
    }
   ],
   "source": [
    "dict6.popitem() # removendo ultima chave"
   ]
  },
  {
   "cell_type": "code",
   "execution_count": 69,
   "id": "229c4a09",
   "metadata": {},
   "outputs": [
    {
     "data": {
      "text/plain": [
       "{'chave1': 'valor1', 'chave2': 'valor2'}"
      ]
     },
     "execution_count": 69,
     "metadata": {},
     "output_type": "execute_result"
    }
   ],
   "source": [
    "dict6"
   ]
  },
  {
   "cell_type": "code",
   "execution_count": null,
   "id": "e497f3ee",
   "metadata": {},
   "outputs": [],
   "source": []
  },
  {
   "cell_type": "code",
   "execution_count": null,
   "id": "ca552e17",
   "metadata": {},
   "outputs": [],
   "source": []
  },
  {
   "cell_type": "code",
   "execution_count": null,
   "id": "ccf5b929",
   "metadata": {},
   "outputs": [],
   "source": []
  },
  {
   "cell_type": "code",
   "execution_count": null,
   "id": "e5bb01b5",
   "metadata": {},
   "outputs": [],
   "source": []
  },
  {
   "cell_type": "code",
   "execution_count": null,
   "id": "7f2c492b",
   "metadata": {},
   "outputs": [],
   "source": []
  },
  {
   "cell_type": "code",
   "execution_count": null,
   "id": "225e7466",
   "metadata": {},
   "outputs": [],
   "source": []
  }
 ],
 "metadata": {
  "kernelspec": {
   "display_name": "Python 3 (ipykernel)",
   "language": "python",
   "name": "python3"
  },
  "language_info": {
   "codemirror_mode": {
    "name": "ipython",
    "version": 3
   },
   "file_extension": ".py",
   "mimetype": "text/x-python",
   "name": "python",
   "nbconvert_exporter": "python",
   "pygments_lexer": "ipython3",
   "version": "3.8.3"
  }
 },
 "nbformat": 4,
 "nbformat_minor": 5
}
